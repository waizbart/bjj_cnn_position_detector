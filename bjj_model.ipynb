{
 "cells": [
  {
   "cell_type": "code",
   "execution_count": null,
   "metadata": {},
   "outputs": [],
   "source": [
    "import os\n",
    "import json\n",
    "import tensorflow as tf\n",
    "from tensorflow.keras.preprocessing.image import load_img, img_to_array\n",
    "import cv2\n",
    "import numpy as np\n",
    "from tensorflow.keras import layers, models"
   ]
  },
  {
   "cell_type": "markdown",
   "metadata": {},
   "source": [
    "## Separating images in folder by label"
   ]
  },
  {
   "cell_type": "code",
   "execution_count": null,
   "metadata": {},
   "outputs": [],
   "source": [
    "HEIGHT = 300\n",
    "WIDTH = 300\n",
    "\n",
    "target_size = (HEIGHT, WIDTH)\n",
    "\n",
    "with open('jiu_annotations.json', 'r') as file:\n",
    "    annotations = json.load(file)\n",
    "\n",
    "labels = {'standing': 0, 'takedown': 1, 'open_guard': 2, 'half_guard': 3, 'closed_guard': 4, '5050_guard': 5, 'side_control': 6, 'mount': 7, 'back': 8, 'turtle': 9}\n",
    "\n",
    "num_labels = len(labels)\n",
    "\n",
    "image_folder = 'D:\\jiu_dataset\\images'\n",
    "\n",
    "num_keypoints = 17\n",
    "\n",
    "images_normalized = []\n",
    "annotations_formatted = []\n",
    "\n",
    "NUM_IMAGES = 10000\n",
    "\n",
    "separate_images_folder = 'D:\\jiu_dataset\\images_separated_by_position'\n",
    "\n",
    "if not os.path.exists(separate_images_folder):\n",
    "    os.makedirs(separate_images_folder)\n",
    "\n",
    "try:\n",
    "    for annotation in annotations:\n",
    "        image_filename = annotation['image'] + '.jpg'\n",
    "        image_path = os.path.join(image_folder, image_filename)\n",
    "        \n",
    "        if not os.path.exists(image_path):\n",
    "            continue\n",
    "        \n",
    "        print(image_path)\n",
    "        \n",
    "        read_image = cv2.imread(image_path)\n",
    "        \n",
    "        label = annotation['position']\n",
    "        if label[-1].isdigit():\n",
    "            label = label[:-1]\n",
    "        \n",
    "        if not os.path.exists(os.path.join(separate_images_folder, 'tmp', label)):\n",
    "            os.makedirs(os.path.join(separate_images_folder, 'tmp', label))\n",
    "            \n",
    "        cv2.imwrite(os.path.join(separate_images_folder, 'tmp', label, image_filename), read_image)\n",
    "    \n",
    "except Exception as e:\n",
    "    print(\"Error:\", e)\n"
   ]
  },
  {
   "cell_type": "markdown",
   "metadata": {},
   "source": [
    "## Train and test split "
   ]
  },
  {
   "cell_type": "code",
   "execution_count": null,
   "metadata": {},
   "outputs": [],
   "source": [
    "from random import shuffle\n",
    "\n",
    "TEST_DIR = os.path.join(separate_images_folder, 'test')\n",
    "TRAIN_DIR = os.path.join(separate_images_folder, 'train')\n",
    "TEMP_DIR = os.path.join(separate_images_folder, 'tmp')\n",
    "PERCENTAGE = 0.8\n",
    "\n",
    "if not os.path.exists(TEST_DIR):\n",
    "    os.makedirs(TEST_DIR)\n",
    "    \n",
    "if not os.path.exists(TRAIN_DIR):\n",
    "    os.makedirs(TRAIN_DIR)\n",
    "    \n",
    "for category in os.listdir(TEMP_DIR):\n",
    "    if not os.path.isdir(os.path.join(TEMP_DIR, category)):\n",
    "        continue\n",
    "    \n",
    "    images = os.listdir(os.path.join(TEMP_DIR, category))\n",
    "    \n",
    "    shuffle(images)\n",
    "\n",
    "    num_images = len(images)\n",
    "    \n",
    "    train_images = images[:int(num_images * PERCENTAGE)]\n",
    "    print('NUMBER OF TRAIN IMAGES FOR', category, len(train_images))\n",
    "    test_images = images[int(num_images * PERCENTAGE):]\n",
    "    print('NUMBER OF TEST IMAGES FOR', category, len(test_images))\n",
    "    \n",
    "    for image in train_images:\n",
    "        image_path = os.path.join(TEMP_DIR, category, image)\n",
    "        new_path = os.path.join(TRAIN_DIR, category, image)\n",
    "        os.makedirs(os.path.dirname(new_path), exist_ok=True)\n",
    "        os.rename(image_path, new_path)\n",
    "        \n",
    "    for image in test_images:\n",
    "        image_path = os.path.join(TEMP_DIR, category, image)\n",
    "        new_path = os.path.join(TEST_DIR, category, image)\n",
    "        os.makedirs(os.path.dirname(new_path), exist_ok=True)\n",
    "        os.rename(image_path, new_path)"
   ]
  },
  {
   "cell_type": "markdown",
   "metadata": {},
   "source": [
    "## Creating the image generator"
   ]
  },
  {
   "cell_type": "code",
   "execution_count": null,
   "metadata": {},
   "outputs": [],
   "source": [
    "from tensorflow.keras.preprocessing.image import ImageDataGenerator\n",
    "\n",
    "TEST_DIR = os.path.join('D:\\jiu_dataset\\images_separated_by_position', 'test')\n",
    "TRAIN_DIR = os.path.join('D:\\jiu_dataset\\images_separated_by_position', 'train')\n",
    "\n",
    "# Data augmentation and normalization for training\n",
    "train_datagen = ImageDataGenerator(\n",
    "      rescale=1./255,\n",
    "      rotation_range=40,\n",
    "      width_shift_range=0.2,\n",
    "      height_shift_range=0.2,\n",
    "      shear_range=0.2,\n",
    "      zoom_range=0.2,\n",
    "      horizontal_flip=True,\n",
    "      fill_mode='nearest')\n",
    "\n",
    "train_generator = train_datagen.flow_from_directory(\n",
    "        TRAIN_DIR, \n",
    "        target_size=(300, 300), \n",
    "        class_mode='categorical')\n",
    "\n",
    "test_data_gen = ImageDataGenerator(rescale=1./255)\n",
    "\n",
    "test_generator = test_data_gen.flow_from_directory(\n",
    "            TEST_DIR, \n",
    "            target_size=(300, 300), \n",
    "            class_mode='categorical')"
   ]
  },
  {
   "cell_type": "markdown",
   "metadata": {},
   "source": [
    "## Creating the neural model"
   ]
  },
  {
   "cell_type": "code",
   "execution_count": null,
   "metadata": {},
   "outputs": [],
   "source": [
    "def create_pose_detection_model(input_shape, labels=10):\n",
    "    model = models.Sequential()\n",
    "\n",
    "    model.add(layers.Conv2D(16, (3, 3), activation='relu', input_shape=input_shape))\n",
    "    model.add(layers.MaxPooling2D((2, 2)))\n",
    "    model.add(layers.Conv2D(32, (3, 3), activation='relu'))\n",
    "    model.add(layers.MaxPooling2D((2, 2)))\n",
    "    model.add(layers.Conv2D(64, (3, 3), activation='relu'))\n",
    "    model.add(layers.MaxPooling2D((2, 2)))\n",
    "    model.add(layers.Conv2D(64, (3, 3), activation='relu'))\n",
    "    model.add(layers.MaxPooling2D((2, 2)))\n",
    "    model.add(layers.Conv2D(64, (3, 3), activation='relu'))\n",
    "    model.add(layers.MaxPooling2D((2, 2)))\n",
    "    \n",
    "    model.add(layers.Flatten())\n",
    "    model.add(layers.Dense(512, activation='relu'))\n",
    "    model.add(layers.Dense(labels, activation='softmax'))\n",
    "\n",
    "    return model\n",
    "\n",
    "input_shape = (300, 300, 3)\n",
    "\n",
    "pose_detection_model = create_pose_detection_model(input_shape)\n",
    "\n",
    "# sparse_categorical_crossentropy (?)\n",
    "pose_detection_model.compile(optimizer='adam', loss='sparse_categorical_crossentropy', metrics=['accuracy'])\n",
    "\n",
    "pose_detection_model.summary()\n"
   ]
  },
  {
   "cell_type": "markdown",
   "metadata": {},
   "source": [
    "## Training the model"
   ]
  },
  {
   "cell_type": "code",
   "execution_count": null,
   "metadata": {},
   "outputs": [],
   "source": [
    "class callback(tf.keras.callbacks.Callback):\n",
    "    def on_epoch_end(self, epoch, logs={}):\n",
    "        if(logs.get('accuracy')>0.85):\n",
    "            print(\"\\nReached 85% accuracy so cancelling training!\")\n",
    "            self.model.stop_training = True\n",
    "\n",
    "num_epochs = 10\n",
    "\n",
    "history = pose_detection_model.fit(\n",
    "    train_generator, \n",
    "    epochs=num_epochs, \n",
    "    callbacks=[callback()],\n",
    "    validation_data=test_generator\n",
    "    )"
   ]
  },
  {
   "cell_type": "code",
   "execution_count": null,
   "metadata": {},
   "outputs": [],
   "source": [
    "# Save the model\n",
    "pose_detection_model.save('jiu_pose_detection_model.h5')"
   ]
  },
  {
   "cell_type": "markdown",
   "metadata": {},
   "source": [
    "## Load the model"
   ]
  },
  {
   "cell_type": "code",
   "execution_count": null,
   "metadata": {},
   "outputs": [],
   "source": [
    "pose_detection_model = tf.keras.models.load_model('jiu_pose_detection_model.h5')"
   ]
  },
  {
   "cell_type": "markdown",
   "metadata": {},
   "source": [
    "## Seeing model history"
   ]
  },
  {
   "cell_type": "code",
   "execution_count": null,
   "metadata": {},
   "outputs": [],
   "source": [
    "import matplotlib.pyplot as plt\n",
    "\n",
    "plt.plot(history.history['accuracy'], label='accuracy')\n",
    "plt.plot(history.history['loss'], label = 'loss')\n",
    "plt.xlabel('Epoch')\n",
    "plt.ylabel('Accuracy')\n",
    "plt.ylim([0.5, 1])\n",
    "plt.legend(loc='lower right')"
   ]
  },
  {
   "cell_type": "markdown",
   "metadata": {},
   "source": [
    "## Getting predictions in a random image"
   ]
  },
  {
   "cell_type": "code",
   "execution_count": null,
   "metadata": {},
   "outputs": [],
   "source": [
    "from random import randint\n",
    "\n",
    "image_folder = 'D:\\jiu_dataset\\images'\n",
    "\n",
    "while True:\n",
    "    try:\n",
    "        random_n = str(randint(1, 1500000))\n",
    "\n",
    "        while len(random_n) < 7:\n",
    "            random_n = '0' + random_n\n",
    "\n",
    "        image_path = image_folder + '/' + random_n + '.jpg'\n",
    "        image = load_img(image_path, target_size=(300, 300))\n",
    "        \n",
    "        break\n",
    "    except:\n",
    "        continue\n",
    "\n",
    "image_array = img_to_array(image)\n",
    "image_array = image_array / 255.0\n",
    "image_array = np.expand_dims(image_array, axis=0)\n",
    "\n",
    "prediction = pose_detection_model.predict(image_array)\n",
    "categories = train_generator.class_indices\n",
    "\n",
    "categories_keys = list(categories.keys())\n",
    "\n",
    "prob_by_category = {}\n",
    "\n",
    "for i, prev in enumerate(prediction[0]):\n",
    "    l = categories_keys[i]\n",
    "    prob_by_category[l] = '{:.4f}%'.format(float(prev) * 100)\n",
    "\n",
    "prob_by_category = dict(sorted(prob_by_category.items(), key=lambda item: float(item[1][:-1]), reverse=True))\n",
    "\n",
    "print(prob_by_category)\n",
    "\n",
    "label = categories_keys[np.argmax(prediction)]\n",
    "\n",
    "plt.imshow(image)\n",
    "plt.show()\n",
    "\n",
    "print(label)\n",
    "        \n"
   ]
  },
  {
   "cell_type": "code",
   "execution_count": null,
   "metadata": {},
   "outputs": [],
   "source": [
    "test_images_dir = 'test_images'\n",
    "\n",
    "for image in os.listdir(test_images_dir):\n",
    "    image_path = os.path.join(test_images_dir, image)\n",
    "    image = load_img(image_path, target_size=(300, 300))\n",
    "    image_array = img_to_array(image)\n",
    "    image_array = image_array / 255.0\n",
    "    image_array = np.expand_dims(image_array, axis=0)\n",
    "\n",
    "    prediction = pose_detection_model.predict(image_array)\n",
    "    categories = train_generator.class_indices\n",
    "\n",
    "    categories_keys = list(categories.keys())\n",
    "\n",
    "    prob_by_category = {}\n",
    "\n",
    "    for i, prev in enumerate(prediction[0]):\n",
    "        l = categories_keys[i]\n",
    "        prob_by_category[l] = '{:.4f}%'.format(float(prev) * 100)\n",
    "\n",
    "    prob_by_category = dict(sorted(prob_by_category.items(), key=lambda item: float(item[1][:-1]), reverse=True))\n",
    "\n",
    "    print(prob_by_category)\n",
    "\n",
    "    label = categories_keys[np.argmax(prediction)]\n",
    "\n",
    "    plt.imshow(image)\n",
    "    plt.show()\n",
    "\n",
    "    print(label)\n",
    "    \n",
    "    print('-----------------')"
   ]
  },
  {
   "cell_type": "markdown",
   "metadata": {},
   "source": [
    "## Video test"
   ]
  },
  {
   "cell_type": "code",
   "execution_count": null,
   "metadata": {},
   "outputs": [],
   "source": [
    "import cv2\n",
    "import numpy as np\n",
    "from time import sleep\n",
    "\n",
    "video_path = 'video.mp4'\n",
    "\n",
    "cap = cv2.VideoCapture(video_path)\n",
    "\n",
    "while True:\n",
    "    ret, frame = cap.read()\n",
    "    \n",
    "    if not ret:\n",
    "        break\n",
    "    \n",
    "    frame = cv2.resize(frame, (300, 300))\n",
    "    \n",
    "    cv2.imshow('frame', frame)\n",
    "    \n",
    "    frame = np.expand_dims(frame, axis=0)\n",
    "    \n",
    "    prediction = pose_detection_model.predict(frame)\n",
    "    categories = train_generator.class_indices\n",
    "\n",
    "    categories_keys = list(categories.keys())\n",
    "\n",
    "    label = categories_keys[np.argmax(prediction)]\n",
    "    \n",
    "    print(label)\n",
    "    \n",
    "    if cv2.waitKey(1) & 0xFF == ord('q'):\n",
    "        break\n",
    "\n",
    "cap.release()\n",
    "cv2.destroyAllWindows()\n"
   ]
  },
  {
   "cell_type": "code",
   "execution_count": null,
   "metadata": {},
   "outputs": [],
   "source": []
  }
 ],
 "metadata": {
  "kernelspec": {
   "display_name": "Python 3",
   "language": "python",
   "name": "python3"
  },
  "language_info": {
   "codemirror_mode": {
    "name": "ipython",
    "version": 3
   },
   "file_extension": ".py",
   "mimetype": "text/x-python",
   "name": "python",
   "nbconvert_exporter": "python",
   "pygments_lexer": "ipython3",
   "version": "3.11.1"
  }
 },
 "nbformat": 4,
 "nbformat_minor": 2
}
