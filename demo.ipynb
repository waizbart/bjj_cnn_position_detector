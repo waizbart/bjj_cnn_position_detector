{
    "cells": [
        {
            "cell_type": "code",
            "execution_count": null,
            "metadata": {},
            "outputs": [],
            "source": [
                "from core.pose import KeypointDetector\n",
                "from core.classifier import PoseClassifier\n",
                "\n",
                "detector = KeypointDetector()\n",
                "classifier = PoseClassifier()\n",
                "\n",
                "TEST_IMAGES_DIR = 'assets/images'"
            ]
        },
        {
            "cell_type": "code",
            "execution_count": null,
            "metadata": {},
            "outputs": [],
            "source": [
                "import numpy as np\n",
                "import os\n",
                "from PIL import Image\n",
                "from utils.draw import draw_probability_bars\n",
                "\n",
                "image_path = os.path.join('/media/waizbart/HD1TB/jiu_dataset/images_separated_by_position/test/turtle/0903457.jpg')\n",
                "\n",
                "image = np.array(Image.open(image_path), dtype=np.uint8)\n",
                "\n",
                "detection = detector.detect_keypoints(image)\n",
                "print(f'Número de keypoints detectados: {len(detection)}')\n",
                "\n",
                "probabilities = classifier.predict([detection])\n",
                "print(\"Probabilidades por posição:\", probabilities)\n",
                "\n",
                "img_with_keypoints = detector.draw_keypoints()\n",
                "\n",
                "img_final = draw_probability_bars(img_with_keypoints, probabilities)\n",
                "\n",
                "detector.display_image(img_final, wait=True)\n",
                "\n"
            ]
        },
        {
            "cell_type": "code",
            "execution_count": null,
            "metadata": {},
            "outputs": [],
            "source": []
        }
    ],
    "metadata": {
        "kernelspec": {
            "display_name": ".venv",
            "language": "python",
            "name": "python3"
        },
        "language_info": {
            "codemirror_mode": {
                "name": "ipython",
                "version": 3
            },
            "file_extension": ".py",
            "mimetype": "text/x-python",
            "name": "python",
            "nbconvert_exporter": "python",
            "pygments_lexer": "ipython3",
            "version": "3.10.15"
        }
    },
    "nbformat": 4,
    "nbformat_minor": 2
}