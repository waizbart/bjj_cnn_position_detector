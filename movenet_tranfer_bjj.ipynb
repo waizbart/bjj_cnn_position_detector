{
 "cells": [
  {
   "cell_type": "code",
   "execution_count": 46,
   "metadata": {},
   "outputs": [],
   "source": [
    "from tensorflow.keras.applications.inception_v3 import InceptionV3\n",
    "import tensorflow as tf\n",
    "import tensorflow_hub as hub\n",
    "import numpy as np"
   ]
  },
  {
   "cell_type": "code",
   "execution_count": 36,
   "metadata": {},
   "outputs": [],
   "source": [
    "model = hub.KerasLayer(\"https://tfhub.dev/google/imagenet/inception_v3/feature_vector/4\", trainable=True)"
   ]
  },
  {
   "cell_type": "code",
   "execution_count": null,
   "metadata": {},
   "outputs": [],
   "source": [
    "m = tf.keras.Sequential([\n",
    "    model\n",
    "])\n",
    "\n",
    "m.build([None, 299, 299, 3])\n",
    "\n",
    "m.summary()\n",
    "\n",
    "m.compile(optimizer='adam', loss='categorical_crossentropy', metrics=['accuracy'])\n",
    "\n",
    "train_key_points = np.array([[ \n",
    "        89.80914307, 105.43384552, 170.66313171,  84.76891327,\n",
    "       110.0443573 , 172.53369141,  85.02732849, 103.94306183,\n",
    "       136.14315796,  83.78937531, 124.95746613, 101.53977203,\n",
    "        84.62630463, 107.87869263, 100.96289825,  88.19257355,\n",
    "       144.24630737, 133.31724548, 100.9705658 , 107.33512878,\n",
    "       103.92945099,  87.04039764, 168.51373291, 222.18237305,\n",
    "       134.94984436, 103.54360962,  91.68307495,  70.75968933,\n",
    "       156.53161621, 123.721138  , 134.4574585 , 114.10692596,\n",
    "        18.21217155, 143.94229126, 156.27694702, 228.51443481,\n",
    "       150.64054871, 128.60699463, 134.8057251 , 164.90638733,\n",
    "       182.89833069, 177.72737122, 173.8009491 , 116.91728973,\n",
    "        82.13097382, 194.67362976, 213.48432922, 176.45010376,\n",
    "       190.55049133, 130.79293823,  94.19467926,  52.27914429,\n",
    "        83.12620544, 208.3157959 , 232.10578918, 125.0796814 ]]).astype(np.float32)\n",
    "\n",
    "\n"
   ]
  },
  {
   "cell_type": "code",
   "execution_count": 67,
   "metadata": {},
   "outputs": [
    {
     "name": "stdout",
     "output_type": "stream",
     "text": [
      "WARNING:tensorflow:From c:\\Users\\guilh\\AppData\\Local\\Programs\\Python\\Python311\\Lib\\site-packages\\keras\\src\\utils\\tf_utils.py:492: The name tf.ragged.RaggedTensorValue is deprecated. Please use tf.compat.v1.ragged.RaggedTensorValue instead.\n",
      "\n"
     ]
    },
    {
     "name": "stderr",
     "output_type": "stream",
     "text": [
      "WARNING:tensorflow:From c:\\Users\\guilh\\AppData\\Local\\Programs\\Python\\Python311\\Lib\\site-packages\\keras\\src\\utils\\tf_utils.py:492: The name tf.ragged.RaggedTensorValue is deprecated. Please use tf.compat.v1.ragged.RaggedTensorValue instead.\n",
      "\n"
     ]
    },
    {
     "name": "stdout",
     "output_type": "stream",
     "text": [
      "1/1 [==============================] - 8s 8s/step - loss: -290.4718 - accuracy: 0.0000e+00\n"
     ]
    },
    {
     "data": {
      "text/plain": [
       "<keras.src.callbacks.History at 0x1fec987ead0>"
      ]
     },
     "execution_count": 67,
     "metadata": {},
     "output_type": "execute_result"
    }
   ],
   "source": [
    "pre_trained_model = InceptionV3(input_shape = (256, 256, 3),\n",
    "                                include_top = False,\n",
    "                                weights = 'imagenet')\n",
    "\n",
    "image_path = 'test_images/take01.jpeg'\n",
    "image = tf.io.read_file(image_path)\n",
    "image = tf.compat.v1.image.decode_jpeg(image)\n",
    "X = tf.expand_dims(image, axis=0)\n",
    "X = tf.cast(tf.image.resize_with_pad(X, 256, 256), dtype=tf.int32)\n",
    "\n",
    "pre_trained_model.trainable = False\n",
    "\n",
    "m = tf.keras.Sequential([\n",
    "    pre_trained_model,\n",
    "    tf.keras.layers.GlobalAveragePooling2D(),\n",
    "    tf.keras.layers.Dense(56, activation='relu'),\n",
    "])\n",
    "\n",
    "m.compile(optimizer='adam', loss='binary_crossentropy', metrics=['accuracy'])\n",
    "\n",
    "m.fit(X, train_key_points, epochs=1)\n",
    "\n",
    "\n",
    "\n"
   ]
  },
  {
   "cell_type": "code",
   "execution_count": 87,
   "metadata": {},
   "outputs": [
    {
     "name": "stdout",
     "output_type": "stream",
     "text": [
      "1/1 [==============================] - 0s 54ms/step\n",
      "(56,)\n"
     ]
    }
   ],
   "source": [
    "points = m.predict(X)\n",
    "print(points.shape)\n",
    "\n",
    "label = [\"nose\", \"left eye\", \"right eye\", \"left ear\", \"right ear\", \"left shoulder\", \"right shoulder\", \"left elbow\", \"right elbow\", \"left wrist\", \"right wrist\", \"left hip\", \"right hip\", \"left knee\", \"right knee\", \"left ankle\", \"right ankle\"]"
   ]
  },
  {
   "cell_type": "code",
   "execution_count": 88,
   "metadata": {},
   "outputs": [
    {
     "ename": "IndexError",
     "evalue": "too many indices for array: array is 1-dimensional, but 3 were indexed",
     "output_type": "error",
     "traceback": [
      "\u001b[1;31m---------------------------------------------------------------------------\u001b[0m",
      "\u001b[1;31mIndexError\u001b[0m                                Traceback (most recent call last)",
      "Cell \u001b[1;32mIn[88], line 1\u001b[0m\n\u001b[1;32m----> 1\u001b[0m max_key,key_val \u001b[38;5;241m=\u001b[39m \u001b[43mpoints\u001b[49m\u001b[43m[\u001b[49m\u001b[38;5;241;43m0\u001b[39;49m\u001b[43m,\u001b[49m\u001b[43m:\u001b[49m\u001b[43m,\u001b[49m\u001b[38;5;241;43m55\u001b[39;49m\u001b[43m]\u001b[49m\u001b[38;5;241m.\u001b[39margmax(),points[\u001b[38;5;241m0\u001b[39m,:,\u001b[38;5;241m55\u001b[39m]\u001b[38;5;241m.\u001b[39mmax()\n\u001b[0;32m      2\u001b[0m max_key,key_val\n",
      "\u001b[1;31mIndexError\u001b[0m: too many indices for array: array is 1-dimensional, but 3 were indexed"
     ]
    }
   ],
   "source": [
    "max_key,key_val = points[0,:,55].argmax(), points[0,:,55].max()\n",
    "max_key,key_val"
   ]
  },
  {
   "cell_type": "code",
   "execution_count": 83,
   "metadata": {},
   "outputs": [],
   "source": [
    "keypoints_dict = {}\n",
    "for i in range(0,len(points)-5,3):\n",
    "    keypoints_dict[label[i//3]] = [points[i],points[i+1],points[i+2]]"
   ]
  },
  {
   "cell_type": "code",
   "execution_count": 84,
   "metadata": {},
   "outputs": [
    {
     "data": {
      "text/plain": [
       "{'nose': [0.0, 2496.6963, 2886.4797],\n",
       " 'left eye': [0.0, 3126.6018, 0.0],\n",
       " 'right eye': [9081.767, 0.0, 2753.1133],\n",
       " 'left ear': [0.0, 10685.972, 0.0],\n",
       " 'right ear': [7835.9697, 0.0, 2621.5486],\n",
       " 'left shoulder': [6562.159, 0.0, 0.0],\n",
       " 'right shoulder': [6568.4727, 397.92014, 5829.295],\n",
       " 'left elbow': [388.74182, 2583.816, 3592.377],\n",
       " 'right elbow': [2592.8137, 0.0, 3119.575],\n",
       " 'left wrist': [0.0, 4311.229, 0.0],\n",
       " 'right wrist': [0.0, 0.0, 0.0],\n",
       " 'left hip': [4740.899, 9779.3, 12390.897],\n",
       " 'right hip': [0.0, 0.0, 0.0],\n",
       " 'left knee': [0.0, 755.8937, 1900.2125],\n",
       " 'right knee': [0.0, 1595.8419, 9047.692],\n",
       " 'left ankle': [2653.0066, 0.0, 7808.8193],\n",
       " 'right ankle': [1061.5133, 4593.9614, 0.0]}"
      ]
     },
     "execution_count": 84,
     "metadata": {},
     "output_type": "execute_result"
    }
   ],
   "source": [
    "keypoints_dict"
   ]
  },
  {
   "cell_type": "code",
   "execution_count": null,
   "metadata": {},
   "outputs": [],
   "source": []
  }
 ],
 "metadata": {
  "kernelspec": {
   "display_name": "Python 3",
   "language": "python",
   "name": "python3"
  },
  "language_info": {
   "codemirror_mode": {
    "name": "ipython",
    "version": 3
   },
   "file_extension": ".py",
   "mimetype": "text/x-python",
   "name": "python",
   "nbconvert_exporter": "python",
   "pygments_lexer": "ipython3",
   "version": "3.11.1"
  }
 },
 "nbformat": 4,
 "nbformat_minor": 2
}
