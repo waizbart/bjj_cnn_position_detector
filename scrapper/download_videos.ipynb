{
 "cells": [
  {
   "cell_type": "markdown",
   "metadata": {},
   "source": [
    "# Downloading videos GB1 por Mestre Carlos Gracie Jr. "
   ]
  },
  {
   "cell_type": "markdown",
   "metadata": {},
   "source": [
    "### Getting the videos ids"
   ]
  },
  {
   "cell_type": "code",
   "execution_count": 8,
   "metadata": {},
   "outputs": [
    {
     "name": "stdout",
     "output_type": "stream",
     "text": [
      "IDS:  ['2990058', '2990059', '2990060', '2990062', '2990063', '2990064', '2990067', '2990068', '2990069', '2990071', '2990072', '2990073', '2990076', '2990077', '2990078', '2990080', '2990081', '2990082', '2990085', '2990086', '2990087', '2990089', '2990090', '2990091', '2990094', '2990095', '2990096', '2990098', '2990099', '2990100', '2990103', '2990104', '2990105', '2990107', '2990108', '2990109', '2990112', '2990113', '2990114', '2990116', '2990117', '2990118', '2990121', '2990122', '2990123', '2990125', '2990126', '2990127', '2990130', '2990131', '2990132', '2990134', '2990135', '2990136', '2990139', '2990140', '2990141', '2990143', '2990144', '2990145', '2990148', '2990149', '2990150', '2990152', '2990153', '2990154', '2990157', '2990158', '2990159', '2990161', '2990162', '2990163', '2990166', '2990167', '2990168', '2990170', '2990171', '2990172', '2990175', '2990176', '2990177', '2990179', '2990180', '2990181', '2990184', '2990185', '2990186', '2990188', '2990189', '2990190', '2990193', '2990194', '2990195', '2990197', '2990198', '2990199']\n"
     ]
    }
   ],
   "source": [
    "from selenium import webdriver\n",
    "from selenium.webdriver.common.by import By\n",
    "import time\n",
    "import json\n",
    "\n",
    "from selenium.webdriver.support.ui import WebDriverWait\n",
    "from selenium.webdriver.support import expected_conditions as EC\n",
    "\n",
    "from selenium.webdriver.chrome.service import Service\n",
    "from webdriver_manager.chrome import ChromeDriverManager\n",
    "\n",
    "options = webdriver.ChromeOptions()\n",
    "options.add_argument(\"--start-maximized\")\n",
    "\n",
    "driver = webdriver.Chrome(service=Service(ChromeDriverManager().install()), options=options)\n",
    "\n",
    "def load_cookies(driver, cookies_file):\n",
    "    with open(cookies_file, 'r', encoding='utf-8') as f:\n",
    "        cookies = json.load(f)\n",
    "    for cookie in cookies:\n",
    "        if 'sameSite' in cookie:\n",
    "            if cookie['sameSite'] == 'unspecified':\n",
    "                cookie['sameSite'] = 'None'\n",
    "            elif cookie['sameSite'] == 'no_restriction':\n",
    "                cookie['sameSite'] = 'None'\n",
    "            elif cookie['sameSite'] == 'lax':\n",
    "                cookie['sameSite'] = 'Lax'\n",
    "            elif cookie['sameSite'] == 'strict':\n",
    "                cookie['sameSite'] = 'Strict'\n",
    "        if 'expiry' in cookie:\n",
    "            cookie['expires'] = cookie.pop('expiry')\n",
    "        try:\n",
    "            driver.add_cookie(cookie)\n",
    "        except Exception as e:\n",
    "            print(f\"Não foi possível adicionar o cookie {cookie['name']}: {e}\")\n",
    "\n",
    "driver.get('https://online.graciebarra.com.br/')\n",
    "time.sleep(3) \n",
    "\n",
    "load_cookies(driver, 'cookies.json')\n",
    "\n",
    "driver.get('https://online.graciebarra.com.br/')\n",
    "time.sleep(3)\n",
    "\n",
    "url = 'https://online.graciebarra.com.br/programs/collection-ds849l4dl38?cid=2990058&permalink=semana-1-aula-a-tcnica-1-46859-b43855'\n",
    "driver.get(url)\n",
    "\n",
    "xpath_div = '/html/body/main/div[1]/div/turbo-frame/turbo-frame/turbo-frame/div[2]/div[2]/div[2]/turbo-frame/div/div[2]'\n",
    "\n",
    "ids = []\n",
    "\n",
    "try:\n",
    "    element = WebDriverWait(driver, 20).until(\n",
    "        EC.presence_of_element_located((By.XPATH, xpath_div))\n",
    "    )\n",
    "\n",
    "    div_element = driver.find_element(By.XPATH, xpath_div)\n",
    "\n",
    "    items = div_element.find_elements(By.CLASS_NAME, 'contents')\n",
    "\n",
    "    for item in items:\n",
    "        inner_item_div = item.find_elements(By.TAG_NAME, 'div')[0]\n",
    "        if inner_item_div.get_attribute('data-controller'):  \n",
    "            id = item.get_attribute('id')\n",
    "            if id:\n",
    "                ids.append(id.replace('program_playlist_chapter_', ''))\n",
    "except Exception as e:\n",
    "    print(\"Ocorreu um erro:\", e)\n",
    "    \n",
    "print('IDS: ', ids)"
   ]
  },
  {
   "cell_type": "markdown",
   "metadata": {},
   "source": [
    "### Downloading videos and annotate descriptions"
   ]
  },
  {
   "cell_type": "code",
   "execution_count": 9,
   "metadata": {},
   "outputs": [],
   "source": [
    "from yt_dlp import YoutubeDL\n",
    "import csv\n",
    "\n",
    "try:\n",
    "    with open('../dataset/gb1/annotations.csv', mode='w', newline='', encoding='utf-8') as csvfile:\n",
    "        fieldnames = ['id', 'description']\n",
    "        writer = csv.DictWriter(csvfile, fieldnames=fieldnames)\n",
    "        writer.writeheader()\n",
    "        \n",
    "        for id in ids:\n",
    "            url = 'https://online.graciebarra.com.br/programs/collection-ds849l4dl38?cid=' + id\n",
    "            driver.get(url)\n",
    "            \n",
    "            description_xpath = '/html/body/main/div[1]/div/turbo-frame/turbo-frame/turbo-frame/div[2]/div[4]/div[1]/turbo-frame/ds-show-more/div'\n",
    "\n",
    "            description_element = WebDriverWait(driver, 20).until(\n",
    "                EC.presence_of_element_located((By.XPATH, description_xpath))\n",
    "            )\n",
    "            \n",
    "            description_text = description_element.text.strip()\n",
    "\n",
    "            writer.writerow({'id': id, 'description': description_text})\n",
    "            \n",
    "            source_xpath = '/html/body/main/div[1]/div/turbo-frame/turbo-frame/turbo-frame/div[2]/div[2]/turbo-frame/div/video-player/video/source'\n",
    "            \n",
    "            source = WebDriverWait(driver, 20).until(\n",
    "                EC.presence_of_element_located((By.XPATH, source_xpath))\n",
    "            )\n",
    "            \n",
    "            source_src = source.get_attribute('src')\n",
    "            \n",
    "            ydl_opts = {\n",
    "                'outtmpl': f'../dataset/gb1/videos/video_{id}.mp4',  \n",
    "                'format': 'best',             \n",
    "                'quiet': False,                \n",
    "            }\n",
    "            \n",
    "            with YoutubeDL(ydl_opts) as ydl:\n",
    "                ydl.download([source_src])\n",
    "            \n",
    "            print(f'Vídeo {id} baixado com sucesso!')\n",
    "except Exception as e:\n",
    "    print(\"Ocorreu um erro:\", e)\n",
    "finally:\n",
    "    driver.quit()"
   ]
  },
  {
   "cell_type": "code",
   "execution_count": null,
   "metadata": {},
   "outputs": [],
   "source": []
  },
  {
   "cell_type": "code",
   "execution_count": null,
   "metadata": {},
   "outputs": [],
   "source": []
  }
 ],
 "metadata": {
  "kernelspec": {
   "display_name": ".venv",
   "language": "python",
   "name": "python3"
  },
  "language_info": {
   "codemirror_mode": {
    "name": "ipython",
    "version": 3
   },
   "file_extension": ".py",
   "mimetype": "text/x-python",
   "name": "python",
   "nbconvert_exporter": "python",
   "pygments_lexer": "ipython3",
   "version": "3.10.15"
  }
 },
 "nbformat": 4,
 "nbformat_minor": 2
}
