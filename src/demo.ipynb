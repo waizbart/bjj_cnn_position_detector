{
 "cells": [
  {
   "cell_type": "code",
   "execution_count": null,
   "metadata": {},
   "outputs": [],
   "source": [
    "from pose import KeypointDetector\n",
    "from classifier import PoseClassifier\n",
    "\n",
    "detector = KeypointDetector()\n",
    "classifier = PoseClassifier()\n",
    "\n",
    "TEST_IMAGES_DIR = '../assets/images'"
   ]
  },
  {
   "cell_type": "code",
   "execution_count": null,
   "metadata": {},
   "outputs": [],
   "source": [
    "import numpy as np\n",
    "import os\n",
    "from PIL import Image\n",
    "\n",
    "image_path = os.path.join(TEST_IMAGES_DIR, 'take01.jpeg')\n",
    "\n",
    "image = np.array(Image.open(image_path), dtype=np.uint8)\n",
    "\n",
    "detection = detector.detect_keypoints(image)\n",
    "print(f'Número de keypoints detectados: {len(detection)}')\n",
    "\n",
    "prediction = classifier.predict([detection])\n",
    "\n",
    "print(prediction)\n",
    "\n",
    "img_with_keypoints = detector.draw_keypoints()\n",
    "\n",
    "detector.display_image(img_with_keypoints)\n",
    "\n"
   ]
  },
  {
   "cell_type": "code",
   "execution_count": null,
   "metadata": {},
   "outputs": [],
   "source": [
    "import cv2\n",
    "\n",
    "cap = cv2.VideoCapture('../assets/videos/video.mp4')\n",
    "frame_count = 0\n",
    "detections = []\n",
    "frame_interval = 1\n",
    "\n",
    "while cap.isOpened():\n",
    "    ret, frame = cap.read()\n",
    "    if not ret:\n",
    "        break\n",
    "\n",
    "    if frame_count % frame_interval == 0:\n",
    "        image = cv2.cvtColor(frame, cv2.COLOR_BGR2RGB)\n",
    "        image = np.array(image, dtype=np.uint8)\n",
    "\n",
    "        detection = detector.detect_keypoints(image)\n",
    "        image = detector.draw_keypoints()\n",
    "        detections.append(detection)\n",
    "\n",
    "        if len(detections) >= frame_interval:\n",
    "            batch_predictions = classifier.predict(detections)\n",
    "            \n",
    "            cv2.imshow('video', image)\n",
    "            \n",
    "            print(\"predictions:\", batch_predictions)\n",
    "\n",
    "            detections = []  \n",
    "\n",
    "    if cv2.waitKey(1) & 0xFF == ord('q'):\n",
    "        break\n",
    "\n",
    "    frame_count += 1\n",
    "\n",
    "cap.release()\n",
    "cv2.destroyAllWindows()"
   ]
  },
  {
   "cell_type": "code",
   "execution_count": null,
   "metadata": {},
   "outputs": [],
   "source": [
    "import time\n",
    "from models.vitpose.easy_ViTPose.vit_utils.inference import VideoReader\n",
    "import tqdm\n",
    "import cv2\n",
    "from pose import KeypointDetector\n",
    "\n",
    "wait = 0\n",
    "total_frames = 1\n",
    "\n",
    "input_path = '../assets/videos/video.mp4'\n",
    "\n",
    "reader = VideoReader(input_path)\n",
    "cap = cv2.VideoCapture(input_path) \n",
    "total_frames = int(cap.get(cv2.CAP_PROP_FRAME_COUNT))\n",
    "cap.release()\n",
    "wait = 15\n",
    "\n",
    "model = KeypointDetector(is_sequential=True)\n",
    "\n",
    "print(f'>>> Running inference on {input_path}')\n",
    "fps = []\n",
    "tot_time = 0.\n",
    "for (ith, img) in tqdm.tqdm(enumerate(reader), total=total_frames):\n",
    "    frame_keypoints = model.detect_keypoints(img)\n",
    "    image = model.draw_keypoints()\n",
    "    model.display_image(image, wait=False)"
   ]
  }
 ],
 "metadata": {
  "kernelspec": {
   "display_name": ".venv",
   "language": "python",
   "name": "python3"
  },
  "language_info": {
   "codemirror_mode": {
    "name": "ipython",
    "version": 3
   },
   "file_extension": ".py",
   "mimetype": "text/x-python",
   "name": "python",
   "nbconvert_exporter": "python",
   "pygments_lexer": "ipython3",
   "version": "3.10.15"
  }
 },
 "nbformat": 4,
 "nbformat_minor": 2
}
