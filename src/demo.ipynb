{
 "cells": [
  {
   "cell_type": "code",
   "execution_count": null,
   "metadata": {},
   "outputs": [
    {
     "name": "stdout",
     "output_type": "stream",
     "text": [
      "Downloading model JunkyByte/easy_ViTPose/torch/coco/vitpose-h-coco.pth\n"
     ]
    }
   ],
   "source": [
    "from pose import KeypointDetector\n",
    "from classifier import PoseClassifier\n",
    "\n",
    "detector = KeypointDetector()\n",
    "classifier = PoseClassifier()\n",
    "\n",
    "TEST_IMAGES_DIR = '../assets/images'"
   ]
  },
  {
   "cell_type": "code",
   "execution_count": 1,
   "metadata": {},
   "outputs": [
    {
     "ename": "NameError",
     "evalue": "name 'detector' is not defined",
     "output_type": "error",
     "traceback": [
      "\u001b[0;31m---------------------------------------------------------------------------\u001b[0m",
      "\u001b[0;31mNameError\u001b[0m                                 Traceback (most recent call last)",
      "Cell \u001b[0;32mIn[1], line 10\u001b[0m\n\u001b[1;32m      6\u001b[0m image_path \u001b[38;5;241m=\u001b[39m \u001b[38;5;124m'\u001b[39m\u001b[38;5;124m/media/waizbart/HD1TB/Recovery/jiu_dataset/images_separated_by_position/train/half_guard/0300081.jpg\u001b[39m\u001b[38;5;124m'\u001b[39m\n\u001b[1;32m      8\u001b[0m image \u001b[38;5;241m=\u001b[39m np\u001b[38;5;241m.\u001b[39marray(Image\u001b[38;5;241m.\u001b[39mopen(image_path), dtype\u001b[38;5;241m=\u001b[39mnp\u001b[38;5;241m.\u001b[39muint8)\n\u001b[0;32m---> 10\u001b[0m detection \u001b[38;5;241m=\u001b[39m \u001b[43mdetector\u001b[49m\u001b[38;5;241m.\u001b[39mdetect_keypoints(image)\n\u001b[1;32m     11\u001b[0m \u001b[38;5;28mprint\u001b[39m(\u001b[38;5;124mf\u001b[39m\u001b[38;5;124m'\u001b[39m\u001b[38;5;124mNúmero de keypoints detectados: \u001b[39m\u001b[38;5;132;01m{\u001b[39;00m\u001b[38;5;28mlen\u001b[39m(detection)\u001b[38;5;132;01m}\u001b[39;00m\u001b[38;5;124m'\u001b[39m)\n\u001b[1;32m     13\u001b[0m prediction \u001b[38;5;241m=\u001b[39m classifier\u001b[38;5;241m.\u001b[39mpredict([detection])\n",
      "\u001b[0;31mNameError\u001b[0m: name 'detector' is not defined"
     ]
    }
   ],
   "source": [
    "import numpy as np\n",
    "import os\n",
    "from PIL import Image\n",
    "\n",
    "# image_path = os.path.join(TEST_IMAGES_DIR, 'two_people.jpg')\n",
    "image_path = '/media/waizbart/HD1TB/Recovery/jiu_dataset/images_separated_by_position/train/half_guard/0300081.jpg'\n",
    "\n",
    "image = np.array(Image.open(image_path), dtype=np.uint8)\n",
    "\n",
    "detection = detector.detect_keypoints(image)\n",
    "print(f'Número de keypoints detectados: {len(detection)}')\n",
    "\n",
    "prediction = classifier.predict([detection])\n",
    "\n",
    "print(prediction)\n",
    "\n",
    "img_with_keypoints = detector.draw_keypoints()\n",
    "\n",
    "detector.display_image(img_with_keypoints, wait=True)\n",
    "\n"
   ]
  }
 ],
 "metadata": {
  "kernelspec": {
   "display_name": ".venv",
   "language": "python",
   "name": "python3"
  },
  "language_info": {
   "codemirror_mode": {
    "name": "ipython",
    "version": 3
   },
   "file_extension": ".py",
   "mimetype": "text/x-python",
   "name": "python",
   "nbconvert_exporter": "python",
   "pygments_lexer": "ipython3",
   "version": "3.10.15"
  }
 },
 "nbformat": 4,
 "nbformat_minor": 2
}
