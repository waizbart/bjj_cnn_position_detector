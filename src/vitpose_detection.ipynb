{
 "cells": [
  {
   "cell_type": "code",
   "execution_count": 1,
   "metadata": {},
   "outputs": [
    {
     "name": "stderr",
     "output_type": "stream",
     "text": [
      "WARNING:torch_tensorrt.dynamo.conversion.aten_ops_converters:Unable to import quantization op. Please install modelopt library (https://github.com/NVIDIA/TensorRT-Model-Optimizer?tab=readme-ov-file#installation) to add support for compiling quantized models\n",
      "WARNING:py.warnings:/home/waizbart/Documents/projects/bjj_ia/.venv/lib/python3.10/site-packages/tqdm/auto.py:21: TqdmWarning: IProgress not found. Please update jupyter and ipywidgets. See https://ipywidgets.readthedocs.io/en/stable/user_install.html\n",
      "  from .autonotebook import tqdm as notebook_tqdm\n",
      "\n"
     ]
    },
    {
     "name": "stdout",
     "output_type": "stream",
     "text": [
      "Downloading model JunkyByte/easy_ViTPose/torch/coco/vitpose-h-coco.pth\n"
     ]
    },
    {
     "name": "stderr",
     "output_type": "stream",
     "text": [
      "WARNING:py.warnings:/home/waizbart/Documents/projects/bjj_ia/.venv/lib/python3.10/site-packages/ultralytics/nn/tasks.py:781: FutureWarning: You are using `torch.load` with `weights_only=False` (the current default value), which uses the default pickle module implicitly. It is possible to construct malicious pickle data which will execute arbitrary code during unpickling (See https://github.com/pytorch/pytorch/blob/main/SECURITY.md#untrusted-models for more details). In a future release, the default value for `weights_only` will be flipped to `True`. This limits the functions that could be executed during unpickling. Arbitrary objects will no longer be allowed to be loaded via this mode unless they are explicitly allowlisted by the user via `torch.serialization.add_safe_globals`. We recommend you start setting `weights_only=True` for any use case where you don't have full control of the loaded file. Please open an issue on GitHub for any issues related to this experimental feature.\n",
      "  ckpt = torch.load(file, map_location=\"cpu\")\n",
      "\n",
      "WARNING:py.warnings:/home/waizbart/Documents/projects/bjj_ia/src/vitpose/easy_ViTPose/inference.py:164: FutureWarning: You are using `torch.load` with `weights_only=False` (the current default value), which uses the default pickle module implicitly. It is possible to construct malicious pickle data which will execute arbitrary code during unpickling (See https://github.com/pytorch/pytorch/blob/main/SECURITY.md#untrusted-models for more details). In a future release, the default value for `weights_only` will be flipped to `True`. This limits the functions that could be executed during unpickling. Arbitrary objects will no longer be allowed to be loaded via this mode unless they are explicitly allowlisted by the user via `torch.serialization.add_safe_globals`. We recommend you start setting `weights_only=True` for any use case where you don't have full control of the loaded file. Please open an issue on GitHub for any issues related to this experimental feature.\n",
      "  ckpt = torch.load(model, map_location='cpu')\n",
      "\n"
     ]
    }
   ],
   "source": [
    "from vitpose.main import KeypointDetector\n",
    "\n",
    "detector = KeypointDetector()"
   ]
  },
  {
   "cell_type": "code",
   "execution_count": 20,
   "metadata": {},
   "outputs": [
    {
     "name": "stderr",
     "output_type": "stream",
     "text": [
      "WARNING:py.warnings:/home/waizbart/Documents/projects/bjj_ia/.venv/lib/python3.10/site-packages/keras/src/layers/core/dense.py:87: UserWarning: Do not pass an `input_shape`/`input_dim` argument to a layer. When using Sequential models, prefer using an `Input(shape)` object as the first layer in the model instead.\n",
      "  super().__init__(activity_regularizer=activity_regularizer, **kwargs)\n",
      "\n",
      "WARNING:absl:Compiled the loaded model, but the compiled metrics have yet to be built. `model.compile_metrics` will be empty until you train or evaluate the model.\n",
      "WARNING:absl:Error in loading the saved optimizer state. As a result, your model is starting with a freshly initialized optimizer.\n"
     ]
    },
    {
     "name": "stdout",
     "output_type": "stream",
     "text": [
      "Número de keypoints detectados: 2\n",
      "[[    0.48193     0.22014     0.50018     0.19995      0.4731     0.19982     0.56423     0.19155     0.46879     0.19615     0.64069     0.21683     0.47627     0.27379      0.7751     0.21355     0.41086     0.41841       0.649     0.13115      0.4103     0.56157     0.69539     0.46738     0.57534     0.50954\n",
      "      0.84764     0.57885     0.53519     0.67357           1     0.70888     0.68909     0.61094      0.6544     0.11287     0.66088     0.10021     0.65638    0.098119     0.58153    0.063323     0.62953    0.076804     0.50151    0.088719     0.58078    0.089646     0.50485     0.24396     0.64962     0.10923\n",
      "      0.57566     0.25873     0.75222     0.13024     0.32022     0.25656     0.39802     0.26249     0.40198      0.4613     0.50908     0.47042     0.38703     0.64219     0.59579     0.69406]]\n",
      "\u001b[1m1/1\u001b[0m \u001b[32m━━━━━━━━━━━━━━━━━━━━\u001b[0m\u001b[37m\u001b[0m \u001b[1m0s\u001b[0m 31ms/step\n",
      "[[ 1.2037e-05     0.99994    1.75e-14  6.3848e-07  7.8347e-11           0  1.1735e-23  4.1293e-21   3.586e-15    4.53e-05]]\n"
     ]
    },
    {
     "data": {
      "text/plain": [
       "'takedown'"
      ]
     },
     "execution_count": 20,
     "metadata": {},
     "output_type": "execute_result"
    }
   ],
   "source": [
    "import numpy as np\n",
    "import tensorflow as tf\n",
    "\n",
    "poses = ['standing', 'takedown', 'open_guard', 'half_guard', 'closed_guard', '5050_guard', 'side_control', 'mount', 'back', 'turtle']\n",
    "\n",
    "jiu_model = tf.keras.models.load_model(\"jiu_model.h5\")\n",
    "\n",
    "image_path = '../assets/images/take01.jpeg'\n",
    "\n",
    "detection = detector.detect_keypoints(image_path)\n",
    "print(f'Número de keypoints detectados: {len(detection)}')\n",
    "\n",
    "img_with_keypoints = detector.draw_keypoints()\n",
    "\n",
    "detector.display_image(img_with_keypoints)\n",
    "\n",
    "if len(detection) == 0:\n",
    "    raise ValueError(\"Nenhuma detecção de pose\")\n",
    "\n",
    "keypoints = np.array([detection[0][:, :2][:, ::-1]])\n",
    "\n",
    "if len(detection) > 1:\n",
    "    keypoints2 = np.array([detection[1][:, :2][:, ::-1]])\n",
    "else:\n",
    "    keypoints2 = np.array([[[0, 0]] * 17])\n",
    "\n",
    "keypoints = np.concatenate((keypoints, keypoints2), axis=0)\n",
    "keypoints = keypoints.reshape(1, 17 * 2 * 2)\n",
    "max_x = np.max(keypoints)\n",
    "normalized_keypoints = keypoints / max_x\n",
    "\n",
    "print(normalized_keypoints)\n",
    "\n",
    "prediction = jiu_model.predict(normalized_keypoints)\n",
    "\n",
    "print(prediction)\n",
    "\n",
    "poses[np.argmax(prediction)]"
   ]
  },
  {
   "cell_type": "code",
   "execution_count": null,
   "metadata": {},
   "outputs": [],
   "source": []
  },
  {
   "cell_type": "code",
   "execution_count": null,
   "metadata": {},
   "outputs": [],
   "source": []
  }
 ],
 "metadata": {
  "kernelspec": {
   "display_name": ".venv",
   "language": "python",
   "name": "python3"
  },
  "language_info": {
   "codemirror_mode": {
    "name": "ipython",
    "version": 3
   },
   "file_extension": ".py",
   "mimetype": "text/x-python",
   "name": "python",
   "nbconvert_exporter": "python",
   "pygments_lexer": "ipython3",
   "version": "3.10.15"
  }
 },
 "nbformat": 4,
 "nbformat_minor": 2
}
