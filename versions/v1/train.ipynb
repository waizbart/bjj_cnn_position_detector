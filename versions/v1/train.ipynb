{
 "cells": [
  {
   "cell_type": "code",
   "execution_count": null,
   "metadata": {},
   "outputs": [],
   "source": [
    "import tensorflow_hub as hub\n",
    "import json\n",
    "import tensorflow as tf\n",
    "import numpy as np\n",
    "from tensorflow.keras import layers, Sequential"
   ]
  },
  {
   "cell_type": "code",
   "execution_count": null,
   "metadata": {},
   "outputs": [],
   "source": [
    "with open('../../jiu_annotations.json', 'r') as file:\n",
    "    annotations = json.load(file)"
   ]
  },
  {
   "cell_type": "code",
   "execution_count": null,
   "metadata": {},
   "outputs": [],
   "source": [
    "labels = {'standing': 0, 'takedown': 1, 'open_guard': 2, 'half_guard': 3, 'closed_guard': 4, '5050_guard': 5, 'side_control': 6, 'mount': 7, 'back': 8, 'turtle': 9}\n",
    "num_labels = len(labels)\n",
    "num_keypoints = 17"
   ]
  },
  {
   "cell_type": "code",
   "execution_count": null,
   "metadata": {},
   "outputs": [],
   "source": [
    "from random import shuffle\n",
    "\n",
    "data = []\n",
    "\n",
    "try:\n",
    "    for annotation in annotations:\n",
    "        label = annotation['position']\n",
    "        if label[-1].isdigit():\n",
    "            label = label[:-1]\n",
    "        \n",
    "        if annotation.get('pose1'):\n",
    "            keypoints = annotation['pose1']\n",
    "        else:\n",
    "            keypoints = annotation['pose2']\n",
    "            \n",
    "        keypoints = np.array(keypoints).astype(np.float32).reshape(num_keypoints * 3)\n",
    "        \n",
    "        max_x = max(keypoints)\n",
    "        normalized_keypoints = keypoints / max_x\n",
    "        \n",
    "        data.append((normalized_keypoints, labels[label]))\n",
    "    \n",
    "except Exception as e:\n",
    "    print(\"Error:\", e)\n",
    "    \n",
    "keypoints_list = []\n",
    "labels_list = []\n",
    "\n",
    "shuffle(data)\n",
    "\n",
    "for keypoints, label in data:\n",
    "    keypoints_list.append(keypoints)\n",
    "    labels_list.append(label)\n",
    "    \n",
    "labels_list = np.array(labels_list)\n",
    "\n",
    "file.close()\n"
   ]
  },
  {
   "cell_type": "code",
   "execution_count": null,
   "metadata": {},
   "outputs": [],
   "source": [
    "TRAIN_PERCENTAGE = 0.8\n",
    "\n",
    "train_keypoints = keypoints_list[:int(len(keypoints_list) * TRAIN_PERCENTAGE)]\n",
    "train_labels = labels_list[:int(len(labels_list) * TRAIN_PERCENTAGE)]\n",
    "\n",
    "test_keypoints = keypoints_list[int(len(keypoints_list) * TRAIN_PERCENTAGE):]\n",
    "test_labels = labels_list[int(len(labels_list) * TRAIN_PERCENTAGE):]\n",
    "\n",
    "train_keypoints = np.array(train_keypoints)\n",
    "train_labels = tf.keras.utils.to_categorical(train_labels)\n",
    "\n",
    "test_keypoints = np.array(test_keypoints)\n",
    "test_labels = tf.keras.utils.to_categorical(test_labels)\n",
    "\n",
    "print(\"Train: \", len(train_keypoints))\n",
    "print(\"Test: \", len(test_keypoints))"
   ]
  },
  {
   "cell_type": "code",
   "execution_count": null,
   "metadata": {},
   "outputs": [],
   "source": [
    "model = Sequential([\n",
    "    layers.Dense(512, activation='relu', input_shape=(num_keypoints * 3,)),\n",
    "    layers.Dense(128, activation='relu'),\n",
    "    layers.Dense(64, activation='relu'),\n",
    "    layers.Dense(num_labels, activation='softmax')\n",
    "])\n",
    "\n",
    "model.summary()"
   ]
  },
  {
   "cell_type": "code",
   "execution_count": null,
   "metadata": {},
   "outputs": [],
   "source": [
    "model.compile(\n",
    "    optimizer='adam',\n",
    "    loss='categorical_crossentropy',\n",
    "    metrics=['accuracy']\n",
    ")"
   ]
  },
  {
   "cell_type": "code",
   "execution_count": null,
   "metadata": {},
   "outputs": [],
   "source": [
    "checkpoint_path = \"weights.best.hdf5\"\n",
    "\n",
    "checkpoint = tf.keras.callbacks.ModelCheckpoint(checkpoint_path,\n",
    "                             monitor='val_accuracy',\n",
    "                             verbose=1,\n",
    "                             save_best_only=True,\n",
    "                             mode='max')\n",
    "\n",
    "earlystopping = tf.keras.callbacks.EarlyStopping(monitor='val_accuracy', \n",
    "                                              patience=20)\n",
    "\n",
    "history = model.fit(train_keypoints, train_labels,\n",
    "                    epochs=100,\n",
    "                    batch_size=16,\n",
    "                    validation_data=(test_keypoints, test_labels),\n",
    "                    callbacks=[checkpoint, earlystopping])"
   ]
  },
  {
   "cell_type": "code",
   "execution_count": null,
   "metadata": {},
   "outputs": [],
   "source": [
    "model.evaluate(test_keypoints, test_labels)"
   ]
  },
  {
   "cell_type": "code",
   "execution_count": null,
   "metadata": {},
   "outputs": [],
   "source": [
    "import matplotlib.pyplot as plt\n",
    "\n",
    "# Plot Utility\n",
    "def plot_graphs(history, string):\n",
    "  plt.plot(history.history[string])\n",
    "  plt.plot(history.history['val_'+string])\n",
    "  plt.xlabel(\"Epochs\")\n",
    "  plt.ylabel(string)\n",
    "  plt.legend([string, 'val_'+string])\n",
    "  plt.show()\n",
    "  \n",
    "plot_graphs(history, 'accuracy')\n",
    "plot_graphs(history, 'loss')"
   ]
  },
  {
   "cell_type": "code",
   "execution_count": null,
   "metadata": {},
   "outputs": [],
   "source": [
    "# save model\n",
    "\n",
    "model.save('jiu_model.h5')"
   ]
  },
  {
   "cell_type": "code",
   "execution_count": null,
   "metadata": {},
   "outputs": [],
   "source": [
    "# Calculate accuracy for each label\n",
    "\n",
    "test_dict = {}\n",
    "\n",
    "n = len(test_keypoints)\n",
    "\n",
    "print(n)\n",
    "\n",
    "for i in range(0, n):\n",
    "    test = np.array([test_keypoints[i]])\n",
    "\n",
    "    prediction = model.predict(test)\n",
    "    \n",
    "    correct_label = np.argmax(test_labels[i])\n",
    "    predicted_label = np.argmax(prediction)\n",
    "    \n",
    "    label_name = list(labels.keys())[predicted_label]\n",
    "    \n",
    "    if predicted_label == correct_label:\n",
    "        if label_name in test_dict:\n",
    "            test_dict[label_name][\"correct\"] += 1\n",
    "        else:\n",
    "            test_dict[label_name] = {\"correct\": 1, \"incorrect\": 0}\n",
    "    else:\n",
    "        if label_name in test_dict:\n",
    "            test_dict[label_name][\"incorrect\"] += 1\n",
    "        else:\n",
    "            test_dict[label_name] = {\"correct\": 0, \"incorrect\": 1}\n",
    "    \n",
    "for key in test_dict:\n",
    "    correct = test_dict[key][\"correct\"]\n",
    "    incorrect = test_dict[key][\"incorrect\"]\n",
    "    \n",
    "    print(f\"Accuracy for {key}: {correct / (correct + incorrect)}\")\n"
   ]
  },
  {
   "cell_type": "code",
   "execution_count": null,
   "metadata": {},
   "outputs": [],
   "source": [
    "\n"
   ]
  }
 ],
 "metadata": {
  "kernelspec": {
   "display_name": "Python 3",
   "language": "python",
   "name": "python3"
  },
  "language_info": {
   "codemirror_mode": {
    "name": "ipython",
    "version": 3
   },
   "file_extension": ".py",
   "mimetype": "text/x-python",
   "name": "python",
   "nbconvert_exporter": "python",
   "pygments_lexer": "ipython3",
   "version": "3.11.1"
  }
 },
 "nbformat": 4,
 "nbformat_minor": 2
}
